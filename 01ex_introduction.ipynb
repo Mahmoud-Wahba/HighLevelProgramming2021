{
 "cells": [
  {
   "cell_type": "markdown",
   "metadata": {},
   "source": [
    "1. The HelloWorld replacement\n",
    "\n",
    "a) Write a program that prints the numbers from 1 to 100. But for multiples of three print \"Hello\" instead of the number and for the multiples of five print \"World\". For numbers which are multiples of both three and five print \"HelloWorld\".\n",
    "\n",
    "b) Put the result in a tuple and substitute \"Hello\" with \"Python\" and \"World\" with \"Works\"."
   ]
  },
  {
   "cell_type": "markdown",
   "metadata": {},
   "source": [
    "2\\. The swap function\n",
    "\n",
    "Write a function that swap the values of two input variables x and y (whatever the type). Try to do that also without a temporary variable"
   ]
  },
  {
   "cell_type": "markdown",
   "metadata": {},
   "source": [
    "3\\. Computing the distance\n",
    "\n",
    "Write a function that calculates and returns the euclidean distance between two points *u* and *v*, where *u* and *v* are both 2-tuples *(x,y)*. For example, if *u=(3,0)* and *v=(0,4)*, the function should return 5"
   ]
  },
  {
   "cell_type": "markdown",
   "metadata": {},
   "source": [
    "4\\. Counting letters\n",
    "\n",
    "Write a program to calculate the number of times each character occurs in a given string *s*. Ignore differences in capitalization"
   ]
  },
  {
   "cell_type": "code",
   "execution_count": 11,
   "metadata": {},
   "outputs": [],
   "source": [
    "s = \"Write a program that prints the numbers from 1 to 100. \\\n",
    "But for multiples of three print Hello instead of the number and for the multiples of five print World. \\\n",
    "For numbers which are multiples of both three and five print HelloWorld.\""
   ]
  },
  {
   "cell_type": "markdown",
   "metadata": {},
   "source": [
    "5\\. Isolating the unique\n",
    "\n",
    "Write a function that determines and count the unique numbers in the list:"
   ]
  },
  {
   "cell_type": "code",
   "execution_count": 12,
   "metadata": {},
   "outputs": [],
   "source": [
    "l = [36, 45, 58, 3, 74, 96, 64, 45, 31, 10, 24, 19, 33, 86, 99, 18, 63, 70, 85,\n",
    " 85, 63, 47, 56, 42, 70, 84, 88, 55, 20, 54, 8, 56, 51, 79, 81, 57, 37, 91,\n",
    " 1, 84, 84, 36, 66, 9, 89, 50, 42, 91, 50, 95, 90, 98, 39, 16, 82, 31, 92, 41,\n",
    " 45, 30, 66, 70, 34, 85, 94, 5, 3, 36, 72, 91, 84, 34, 87, 75, 53, 51, 20, 89, 51, 20]"
   ]
  },
  {
   "cell_type": "markdown",
   "metadata": {},
   "source": [
    "Do the same without using user-defined functions, but exploiting only the Python data structures."
   ]
  },
  {
   "cell_type": "markdown",
   "metadata": {},
   "source": [
    "6\\. Combination of functions\n",
    "\n",
    "Write two functions - one that returns the square of a number, and one that returns the cube. Now write a third function that returns the number raised to the 6th power using the two previous functions."
   ]
  },
  {
   "cell_type": "markdown",
   "metadata": {},
   "source": [
    "7\\. Cubes\n",
    "\n",
    "Create a list of the cubes of x for x in *[0, 10]* using:\n",
    "\n",
    "a) a for loop\n",
    "\n",
    "b) a list comprehension"
   ]
  },
  {
   "cell_type": "markdown",
   "metadata": {},
   "source": [
    "8\\. Nested list comprehension\n",
    "\n",
    "A Pythagorean triple is an integer solution to the Pythagorean theorem $a^2+b^2=c^2$. The first Pythagorean triple is (3,4,5). Find and put in a tuple all unique Pythagorean triples for the positive integers a, b and c less than 100."
   ]
  },
  {
   "cell_type": "markdown",
   "metadata": {},
   "source": [
    "9\\. Normalization\n",
    "\n",
    "Write a function that takes a tuple of numbers and returns it with the entries normalized to one"
   ]
  },
  {
   "cell_type": "code",
   "execution_count": 13,
   "metadata": {},
   "outputs": [
    {
     "name": "stdout",
     "output_type": "stream",
     "text": [
      "SOLUTION EX1.A\n",
      "[1, 2, 'Hello', 4, 'Word', 'Hello', 7, 8, 'Hello', 'Word', 11, 'Hello', 13, 14, 'Hello Word', 16, 17, 'Hello', 19, 'Word', 'Hello', 22, 23, 'Hello', 'Word', 26, 'Hello', 28, 29, 'Hello Word', 31, 32, 'Hello', 34, 'Word', 'Hello', 37, 38, 'Hello', 'Word', 41, 'Hello', 43, 44, 'Hello Word', 46, 47, 'Hello', 49, 'Word', 'Hello', 52, 53, 'Hello', 'Word', 56, 'Hello', 58, 59, 'Hello Word', 61, 62, 'Hello', 64, 'Word', 'Hello', 67, 68, 'Hello', 'Word', 71, 'Hello', 73, 74, 'Hello Word', 76, 77, 'Hello', 79, 'Word', 'Hello', 82, 83, 'Hello', 'Word', 86, 'Hello', 88, 89, 'Hello Word', 91, 92, 'Hello', 94, 'Word', 'Hello', 97, 98, 'Hello', 'Word']\n",
      "#######################################################################################################################\n",
      "SOLUTION EX1.B\n",
      "(1, 2, 'Python', 4, 'Works', 'Python', 7, 8, 'Python', 'Works', 11, 'Python', 13, 14, 'PYthon Works', 16, 17, 'Python', 19, 'Works', 'Python', 22, 23, 'Python', 'Works', 26, 'Python', 28, 29, 'PYthon Works', 31, 32, 'Python', 34, 'Works', 'Python', 37, 38, 'Python', 'Works', 41, 'Python', 43, 44, 'PYthon Works', 46, 47, 'Python', 49, 'Works', 'Python', 52, 53, 'Python', 'Works', 56, 'Python', 58, 59, 'PYthon Works', 61, 62, 'Python', 64, 'Works', 'Python', 67, 68, 'Python', 'Works', 71, 'Python', 73, 74, 'PYthon Works', 76, 77, 'Python', 79, 'Works', 'Python', 82, 83, 'Python', 'Works', 86, 'Python', 88, 89, 'PYthon Works', 91, 92, 'Python', 94, 'Works', 'Python', 97, 98, 'Python', 'Works')\n"
     ]
    }
   ],
   "source": [
    "print(\"SOLUTION EX1.A\")\n",
    "\n",
    "a=[]\n",
    "for i in range (1,101):\n",
    "    if (i%3==0) and not (i%5==0) :\n",
    "        a.insert(i, \"Hello\")\n",
    "    elif (i%5==0) and not (i%3==0):\n",
    "        a.insert(i, \"Word\")\n",
    "    elif ((i%3==0) and (i%5==0)):\n",
    "        a.insert(i, \"Hello Word\")\n",
    "    else :\n",
    "        a.insert(i,i)        \n",
    "print(a)\n",
    "print(\"#######################################################################################################################\")\n",
    "################################################################################################################################\n",
    "for x in range(1,100):\n",
    "    if a[x]==\"Hello\":\n",
    "        a[x]= \"Python\"\n",
    "    elif a[x]==\"Word\":\n",
    "        a[x] = \"Works\"\n",
    "    elif a[x] == \"Hello Word\":\n",
    "        a[x] = \"PYthon Works\"       \n",
    "################################################################################################################################\n",
    "print(\"SOLUTION EX1.B\")\n",
    "\n",
    "result1 = tuple(a)\n",
    "print(result1)\n",
    "\n",
    "\n",
    "        "
   ]
  },
  {
   "cell_type": "code",
   "execution_count": 14,
   "metadata": {},
   "outputs": [
    {
     "name": "stdout",
     "output_type": "stream",
     "text": [
      "SOLUTION EX2\n",
      "X: 5\n",
      "Y: 6\n",
      "X: 6\n",
      "Y: 5\n"
     ]
    }
   ],
   "source": [
    "print(\"SOLUTION EX2\")\n",
    "x=5\n",
    "y=6\n",
    "\n",
    "def swap_fun(x1,y1):\n",
    "    global x\n",
    "    x= y1\n",
    "    global y\n",
    "    y= x1\n",
    "\n",
    "print(\"X:\",x)\n",
    "print(\"Y:\",y)\n",
    "swap_fun(x,y)\n",
    "print(\"X:\",x)\n",
    "print(\"Y:\",y)"
   ]
  },
  {
   "cell_type": "code",
   "execution_count": 15,
   "metadata": {},
   "outputs": [
    {
     "name": "stdout",
     "output_type": "stream",
     "text": [
      "SOLUTION EX3\n"
     ]
    },
    {
     "data": {
      "text/plain": [
       "5.0"
      ]
     },
     "execution_count": 15,
     "metadata": {},
     "output_type": "execute_result"
    }
   ],
   "source": [
    "print(\"SOLUTION EX3\")\n",
    "import math\n",
    "def my_function(point1,point2):\n",
    "    result = math.sqrt(pow((int(point1[1])-int(point1[0])),2)+pow((int(point2[1])-int(point2[0])),2))\n",
    "    return result\n",
    "x1 = 3\n",
    "x2 = 0\n",
    "point1=(x1,x2)\n",
    "#print(int(point1[0])+int(point1[1]))\n",
    "y1 = 0\n",
    "y2 = 4\n",
    "point2=(y1,y2)\n",
    "my_function(point1,point2)"
   ]
  },
  {
   "cell_type": "code",
   "execution_count": 16,
   "metadata": {
    "scrolled": false
   },
   "outputs": [
    {
     "name": "stdout",
     "output_type": "stream",
     "text": [
      "SOLUTION EX4\n",
      "mahmoud zakari abdallah wahba\n",
      "m 2\n",
      "a 8\n",
      "h 3\n",
      "m 2\n",
      "o 1\n",
      "u 1\n",
      "d 2\n",
      "  3\n",
      "z 1\n",
      "a 8\n",
      "k 1\n",
      "a 8\n",
      "r 1\n",
      "i 1\n",
      "  3\n",
      "a 8\n",
      "b 2\n",
      "d 2\n",
      "a 8\n",
      "l 2\n",
      "l 2\n",
      "a 8\n",
      "h 3\n",
      "  3\n",
      "w 1\n",
      "a 8\n",
      "h 3\n",
      "b 2\n",
      "a 8\n"
     ]
    }
   ],
   "source": [
    "print(\"SOLUTION EX4\")\n",
    "s=\"Mahmoud Zakari Abdallah Wahba\"\n",
    "new_s=s.lower()\n",
    "print(new_s)\n",
    "#print(s[5])\n",
    "char_array=[]\n",
    "count_array=[]\n",
    "for i in range(len(new_s)):\n",
    "    count=0\n",
    "    for j in range(len(new_s)):\n",
    "        if new_s[i]==new_s[j]:            \n",
    "            count+=1\n",
    "    char_array.append(new_s[i])\n",
    "    count_array.append(count)\n",
    "\n",
    "#print(count_array)\n",
    "for i in range(len(char_array)):\n",
    "    a=\"Repeted\"\n",
    "    print(new_s[i] , count_array[i])\n",
    "    \n",
    "   "
   ]
  },
  {
   "cell_type": "code",
   "execution_count": 17,
   "metadata": {},
   "outputs": [
    {
     "name": "stdout",
     "output_type": "stream",
     "text": [
      "SOLUTION EX5\n",
      "{1, 3, 5, 8, 9, 10, 16, 18, 19, 20, 24, 30, 31, 33, 34, 36, 37, 39, 41, 42, 45, 47, 50, 51, 53, 54, 55, 56, 57, 58, 63, 64, 66, 70, 72, 74, 75, 79, 81, 82, 84, 85, 86, 87, 88, 89, 90, 91, 92, 94, 95, 96, 98, 99}\n",
      "54\n"
     ]
    }
   ],
   "source": [
    "print(\"SOLUTION EX5\")\n",
    "\n",
    "l = [36, 45, 58, 3, 74, 96, 64, 45, 31, 10, 24, 19, 33, 86, 99, 18, 63, 70, 85,\n",
    " 85, 63, 47, 56, 42, 70, 84, 88, 55, 20, 54, 8, 56, 51, 79, 81, 57, 37, 91,\n",
    " 1, 84, 84, 36, 66, 9, 89, 50, 42, 91, 50, 95, 90, 98, 39, 16, 82, 31, 92, 41,\n",
    " 45, 30, 66, 70, 34, 85, 94, 5, 3, 36, 72, 91, 84, 34, 87, 75, 53, 51, 20, 89, 51, 20]\n",
    "uniqueNumbers=set(l)\n",
    "print(uniqueNumbers)\n",
    "count=0\n",
    "for i in uniqueNumbers:\n",
    "    if i in l :\n",
    "        count += 1\n",
    "print (count)\n"
   ]
  },
  {
   "cell_type": "code",
   "execution_count": 18,
   "metadata": {},
   "outputs": [
    {
     "name": "stdout",
     "output_type": "stream",
     "text": [
      "SOLUTION EX6\n",
      "25\n",
      "125\n",
      "15625\n"
     ]
    }
   ],
   "source": [
    "print(\"SOLUTION EX6\")\n",
    "def square_Num(x1):\n",
    "    x2 = pow(int(x1),2)\n",
    "    return x2\n",
    "def cube_Num(x1):\n",
    "    x2 = pow(int(x1),3)\n",
    "    return x2\n",
    "def cube_square_num(x1):\n",
    "    x2 = (square_Num(x1)*cube_Num(x1))*int(x1)\n",
    "    return x2\n",
    "x1 = 5\n",
    "print(square_Num(x1))\n",
    "print(cube_Num(x1))\n",
    "print(cube_square_num(x1))\n"
   ]
  },
  {
   "cell_type": "code",
   "execution_count": 19,
   "metadata": {},
   "outputs": [
    {
     "name": "stdout",
     "output_type": "stream",
     "text": [
      "SOLUTION EX7\n",
      "[0, 1, 8, 27, 64, 125, 216, 343, 512, 729]\n",
      "[0, 1, 8, 27, 64, 125, 216, 343, 512, 729]\n"
     ]
    }
   ],
   "source": [
    "print(\"SOLUTION EX7\")\n",
    "a=[]\n",
    "for i in range(0,10):\n",
    "    a.insert(i,pow(i,3))\n",
    "print (a)\n",
    "newlist = [pow(x,3) for x in range(0,10) ]\n",
    "print (newlist)"
   ]
  },
  {
   "cell_type": "code",
   "execution_count": 20,
   "metadata": {},
   "outputs": [
    {
     "name": "stdout",
     "output_type": "stream",
     "text": [
      "SOLUTION EX8\n",
      "([3, 4, 5], [6, 8, 10], [9, 12, 15], [12, 16, 20], [15, 20, 25], [18, 24, 30], [21, 28, 35], [24, 32, 40], [27, 36, 45], [30, 40, 50], [33, 44, 55], [36, 48, 60], [39, 52, 65], [42, 56, 70], [45, 60, 75], [48, 64, 80], [51, 68, 85], [54, 72, 90], [57, 76, 95], [60, 80, 100])\n"
     ]
    }
   ],
   "source": [
    "print(\"SOLUTION EX8\")\n",
    "\n",
    "b=2\n",
    "result = [3,4,5]\n",
    "count=1\n",
    "matrix = [[result[j]*i for j in range(3)] for i in range(1,21)]   \n",
    "result1 = tuple(matrix)\n",
    "print(result1)"
   ]
  },
  {
   "cell_type": "code",
   "execution_count": 21,
   "metadata": {},
   "outputs": [
    {
     "name": "stdout",
     "output_type": "stream",
     "text": [
      "SOLUTION EX9\n"
     ]
    },
    {
     "data": {
      "text/plain": [
       "(0.0,\n",
       " 0.05263157894736842,\n",
       " 0.10526315789473684,\n",
       " 0.15789473684210525,\n",
       " 0.21052631578947367,\n",
       " 0.2631578947368421,\n",
       " 0.3157894736842105,\n",
       " 0.3684210526315789,\n",
       " 0.42105263157894735,\n",
       " 0.47368421052631576,\n",
       " 0.5263157894736842,\n",
       " 0.5789473684210527,\n",
       " 0.631578947368421,\n",
       " 0.6842105263157895,\n",
       " 0.7368421052631579,\n",
       " 0.7894736842105263,\n",
       " 0.8421052631578947,\n",
       " 0.8947368421052632,\n",
       " 0.9473684210526315,\n",
       " 1.0)"
      ]
     },
     "execution_count": 21,
     "metadata": {},
     "output_type": "execute_result"
    }
   ],
   "source": [
    "print(\"SOLUTION EX9\")\n",
    "def norm(x1):\n",
    "    norm = [(float(i)-min(x1))/(max(x1)-min(x1)) for i in x1]\n",
    "    return tuple(norm)\n",
    "a = range(0,100,5)\n",
    "\n",
    "norm(a)\n"
   ]
  },
  {
   "cell_type": "code",
   "execution_count": null,
   "metadata": {},
   "outputs": [],
   "source": []
  }
 ],
 "metadata": {
  "kernelspec": {
   "display_name": "Python 3",
   "language": "python",
   "name": "python3"
  },
  "language_info": {
   "codemirror_mode": {
    "name": "ipython",
    "version": 3
   },
   "file_extension": ".py",
   "mimetype": "text/x-python",
   "name": "python",
   "nbconvert_exporter": "python",
   "pygments_lexer": "ipython3",
   "version": "3.8.8"
  }
 },
 "nbformat": 4,
 "nbformat_minor": 2
}
