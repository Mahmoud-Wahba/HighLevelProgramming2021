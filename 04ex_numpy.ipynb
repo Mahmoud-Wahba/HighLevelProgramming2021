{
 "cells": [
  {
   "cell_type": "markdown",
   "metadata": {},
   "source": [
    "1\\. Find the total mean, and the mean for each row and column of the following matrix:\n",
    "\n",
    "```python\n",
    "m = np.arange(12).reshape((3,4))\n",
    "```"
   ]
  },
  {
   "cell_type": "code",
   "execution_count": 76,
   "metadata": {},
   "outputs": [
    {
     "name": "stdout",
     "output_type": "stream",
     "text": [
      "###################################################################\n",
      "Solution 1\n",
      "[[ 0  1  2  3]\n",
      " [ 4  5  6  7]\n",
      " [ 8  9 10 11]]\n",
      "Mean for each Row :  [1.5 5.5 9.5]\n",
      "Mean for each column :  [4. 5. 6. 7.]\n",
      "Total Mean :  5.5\n"
     ]
    }
   ],
   "source": [
    "print(\"###################################################################\")\n",
    "print(\"Solution 1\")\n",
    "import numpy as np\n",
    "m = np.arange(12).reshape((3,4))\n",
    "print(m)\n",
    "row_means = m.mean(axis=1)\n",
    "print(\"Mean for each Row : \" , row_means)\n",
    "column_means = m.mean(axis=0)\n",
    "print(\"Mean for each column : \" , column_means)\n",
    "tot_means = m.mean()\n",
    "print(\"Total Mean : \" , tot_means)\n",
    "\n"
   ]
  },
  {
   "cell_type": "markdown",
   "metadata": {},
   "source": [
    "2\\. Find the outer product of the following vectors:\n",
    "\n",
    "```python\n",
    "u = np.array([1, 3, 5, 7])\n",
    "v = np.array([2, 4, 6, 8])\n",
    "```\n",
    "\n",
    "Use different methods to do this:\n",
    "\n",
    "   1. Using the function `outer` in numpy\n",
    "   2. Using a nested `for` loop or a list comprehension\n",
    "   3. Using numpy broadcasting operations"
   ]
  },
  {
   "cell_type": "code",
   "execution_count": 77,
   "metadata": {},
   "outputs": [
    {
     "name": "stdout",
     "output_type": "stream",
     "text": [
      "###################################################################\n",
      "[1 3 5 7]\n",
      "[2 4 6 8]\n",
      "Solution 2.1\n",
      "[[ 2  4  6  8]\n",
      " [ 6 12 18 24]\n",
      " [10 20 30 40]\n",
      " [14 28 42 56]]\n",
      "###################################################################\n",
      "Solution 2.2\n",
      "[[ 2  4  6  8]\n",
      " [ 6 12 18 24]\n",
      " [10 20 30 40]\n",
      " [14 28 42 56]]\n",
      "###################################################################\n",
      "Solution 2.3\n",
      "[[ 2  4  6  8]\n",
      " [ 6 12 18 24]\n",
      " [10 20 30 40]\n",
      " [14 28 42 56]]\n"
     ]
    }
   ],
   "source": [
    "print(\"###################################################################\")\n",
    "u = np.array([1, 3, 5, 7])\n",
    "v = np.array([2, 4, 6, 8])\n",
    "print(u)\n",
    "print(v)\n",
    "\n",
    "print(\"Solution 2.1\")\n",
    "\n",
    "out_product=np.outer(u,v)\n",
    "print(out_product)\n",
    "\n",
    "print(\"###################################################################\")\n",
    "print(\"Solution 2.2\")\n",
    "\n",
    "result=[]\n",
    "for i in range(len(u)):\n",
    "    new=[]\n",
    "    for j in range(len(v)):\n",
    "        new.append(u[i]*v[j])\n",
    "    result.append(new)  \n",
    "result=np.vstack(result) \n",
    "print(result)\n",
    "\n",
    "print(\"###################################################################\")\n",
    "print(\"Solution 2.3\")\n",
    "\n",
    "out_proadcast=v*u.reshape(4,1)\n",
    "print(out_proadcast)\n"
   ]
  },
  {
   "cell_type": "markdown",
   "metadata": {},
   "source": [
    "3\\. Create a 10 by 6 matrix of increasing float numbers, starting from zero and increasing in each step by 0.1, so the output matrix looks like the following:\n",
    "\n",
    "```python\n",
    "m = [[0. 0.1, 0.2 0.3 ... 0.9]\n",
    "     [1.0 1.1 1.2 1.3 ... 1.9]\n",
    "     ...\n",
    "     [5.0 5.1 5.2 5.3 ... 5.9]]\n",
    "```\n",
    "After creating the matrix, set all entries with a decimal part $< 0.4$ to zero."
   ]
  },
  {
   "cell_type": "code",
   "execution_count": 78,
   "metadata": {},
   "outputs": [
    {
     "name": "stdout",
     "output_type": "stream",
     "text": [
      "###################################################################\n",
      "Solution 3.1\n",
      "[[0.  0.1 0.2 0.3 0.4 0.5 0.6 0.7 0.8 0.9]\n",
      " [1.  1.1 1.2 1.3 1.4 1.5 1.6 1.7 1.8 1.9]\n",
      " [2.  2.1 2.2 2.3 2.4 2.5 2.6 2.7 2.8 2.9]\n",
      " [3.  3.1 3.2 3.3 3.4 3.5 3.6 3.7 3.8 3.9]\n",
      " [4.  4.1 4.2 4.3 4.4 4.5 4.6 4.7 4.8 4.9]\n",
      " [5.  5.1 5.2 5.3 5.4 5.5 5.6 5.7 5.8 5.9]]\n",
      "###################################################################\n",
      "Solution 3.2\n",
      "[[0.  0.  0.  0.  0.4 0.5 0.6 0.7 0.8 0.9]\n",
      " [0.  0.  0.  0.  1.4 1.5 1.6 1.7 1.8 1.9]\n",
      " [0.  0.  0.  0.  2.4 2.5 2.6 2.7 2.8 2.9]\n",
      " [0.  0.  0.  0.  3.4 3.5 3.6 3.7 3.8 3.9]\n",
      " [0.  0.  0.  0.  4.4 4.5 4.6 4.7 4.8 4.9]\n",
      " [0.  0.  0.  0.  5.4 5.5 5.6 5.7 5.8 5.9]]\n"
     ]
    }
   ],
   "source": [
    "print(\"###################################################################\")\n",
    "print(\"Solution 3.1\")\n",
    "\n",
    "a=np.arange(0,6,.1).reshape(6, 10)\n",
    "print(a)\n",
    "\n",
    "print(\"###################################################################\")\n",
    "print(\"Solution 3.2\")\n",
    "\n",
    "for i in range(6):\n",
    "    for j in range(10):\n",
    "        if i == 0 :\n",
    "           if a[i][j]%(i+1)<.4:\n",
    "                #print(\"%0.1f\"%a[i][j])\n",
    "                a[i][j]=0\n",
    "        else :\n",
    "           if a[i][j]%(i)<.4:\n",
    "                #print(\"%0.1f\"%a[i][j])\n",
    "                a[i][j]=0\n",
    "        \n",
    "print(a)\n",
    "       \n",
    "\n",
    "\n"
   ]
  },
  {
   "cell_type": "markdown",
   "metadata": {},
   "source": [
    "4\\. Use `np.linspace` to create an array of 100 numbers between 0 and 2π (inclusive).\n",
    "\n",
    "  * Extract every 10th element using the slice notation\n",
    "  * Reverse the array using the slice notation\n",
    "  * Extract elements where the absolute difference between the sin and cos functions evaluated for that element is $< 0.1$\n",
    "  * **Optional**: make a plot showing the sin and cos functions and indicate where they are close"
   ]
  },
  {
   "cell_type": "code",
   "execution_count": 79,
   "metadata": {},
   "outputs": [
    {
     "name": "stdout",
     "output_type": "stream",
     "text": [
      "###################################################################\n",
      "Solution 4.1\n",
      "[0.         0.06346652 0.12693304 0.19039955 0.25386607 0.31733259\n",
      " 0.38079911 0.44426563 0.50773215 0.57119866 0.63466518 0.6981317\n",
      " 0.76159822 0.82506474 0.88853126 0.95199777 1.01546429 1.07893081\n",
      " 1.14239733 1.20586385 1.26933037 1.33279688 1.3962634  1.45972992\n",
      " 1.52319644 1.58666296 1.65012947 1.71359599 1.77706251 1.84052903\n",
      " 1.90399555 1.96746207 2.03092858 2.0943951  2.15786162 2.22132814\n",
      " 2.28479466 2.34826118 2.41172769 2.47519421 2.53866073 2.60212725\n",
      " 2.66559377 2.72906028 2.7925268  2.85599332 2.91945984 2.98292636\n",
      " 3.04639288 3.10985939 3.17332591 3.23679243 3.30025895 3.36372547\n",
      " 3.42719199 3.4906585  3.55412502 3.61759154 3.68105806 3.74452458\n",
      " 3.8079911  3.87145761 3.93492413 3.99839065 4.06185717 4.12532369\n",
      " 4.1887902  4.25225672 4.31572324 4.37918976 4.44265628 4.5061228\n",
      " 4.56958931 4.63305583 4.69652235 4.75998887 4.82345539 4.88692191\n",
      " 4.95038842 5.01385494 5.07732146 5.14078798 5.2042545  5.26772102\n",
      " 5.33118753 5.39465405 5.45812057 5.52158709 5.58505361 5.64852012\n",
      " 5.71198664 5.77545316 5.83891968 5.9023862  5.96585272 6.02931923\n",
      " 6.09278575 6.15625227 6.21971879 6.28318531]\n",
      "###################################################################\n",
      "Solution 4.2\n",
      "[0.         0.63466518 1.26933037 1.90399555 2.53866073 3.17332591\n",
      " 3.8079911  4.44265628 5.07732146 5.71198664]\n",
      "###################################################################\n",
      "Solution 4.3\n",
      "[6.28318531 6.21971879 6.15625227 6.09278575 6.02931923 5.96585272\n",
      " 5.9023862  5.83891968 5.77545316 5.71198664 5.64852012 5.58505361\n",
      " 5.52158709 5.45812057 5.39465405 5.33118753 5.26772102 5.2042545\n",
      " 5.14078798 5.07732146 5.01385494 4.95038842 4.88692191 4.82345539\n",
      " 4.75998887 4.69652235 4.63305583 4.56958931 4.5061228  4.44265628\n",
      " 4.37918976 4.31572324 4.25225672 4.1887902  4.12532369 4.06185717\n",
      " 3.99839065 3.93492413 3.87145761 3.8079911  3.74452458 3.68105806\n",
      " 3.61759154 3.55412502 3.4906585  3.42719199 3.36372547 3.30025895\n",
      " 3.23679243 3.17332591 3.10985939 3.04639288 2.98292636 2.91945984\n",
      " 2.85599332 2.7925268  2.72906028 2.66559377 2.60212725 2.53866073\n",
      " 2.47519421 2.41172769 2.34826118 2.28479466 2.22132814 2.15786162\n",
      " 2.0943951  2.03092858 1.96746207 1.90399555 1.84052903 1.77706251\n",
      " 1.71359599 1.65012947 1.58666296 1.52319644 1.45972992 1.3962634\n",
      " 1.33279688 1.26933037 1.20586385 1.14239733 1.07893081 1.01546429\n",
      " 0.95199777 0.88853126 0.82506474 0.76159822 0.6981317  0.63466518\n",
      " 0.57119866 0.50773215 0.44426563 0.38079911 0.31733259 0.25386607\n",
      " 0.19039955 0.12693304 0.06346652 0.        ]\n",
      "###################################################################\n",
      "Solution 4.4\n",
      "[0.76159822 0.82506474 3.87145761 3.93492413]\n",
      "###################################################################\n",
      "Optional\n"
     ]
    },
    {
     "data": {
      "image/png": "[encoded data removed]",
      "text/plain": [
       "<Figure size 432x288 with 1 Axes>"
      ]
     },
     "metadata": {
      "needs_background": "light"
     },
     "output_type": "display_data"
    }
   ],
   "source": [
    "import matplotlib.pyplot as plot\n",
    "import matplotlib.pyplot as plt\n",
    "\n",
    "print(\"###################################################################\")\n",
    "print(\"Solution 4.1\")\n",
    "\n",
    "a=np.linspace(0,2*np.pi,100)\n",
    "print(a)\n",
    "\n",
    "print(\"###################################################################\")\n",
    "print(\"Solution 4.2\")\n",
    "\n",
    "print(a[::10])\n",
    "\n",
    "print(\"###################################################################\")\n",
    "print(\"Solution 4.3\")\n",
    "\n",
    "print(a[::-1])\n",
    "\n",
    "print(\"###################################################################\")\n",
    "print(\"Solution 4.4\")\n",
    "\n",
    "diff = a[np.abs( np.cos(arr) - np.sin(arr) ) < 0.1]\n",
    "print(diff)\n",
    "\n",
    "print(\"###################################################################\")\n",
    "print(\"Optional\")\n",
    "plt.plot(a, np.cos(a), label='cos')\n",
    "plt.plot(a, np.sin(a), label='sin')\n",
    "plt.legend()\n",
    "plt.scatter(diff, np.cos(diff), c='red')\n",
    "plt.scatter(diff, np.cos(diff), c='red')\n",
    "plt.show()\n"
   ]
  },
  {
   "cell_type": "markdown",
   "metadata": {},
   "source": [
    "5\\. Create a matrix that shows the 10 by 10 multiplication table.\n",
    "\n",
    " * Find the trace of the matrix\n",
    " * Extract the anti-diagonal matrix (this should be ```array([10, 18, 24, 28, 30, 30, 28, 24, 18, 10])```)\n",
    " * Extract the diagonal offset by 1 upwards (this should be ```array([ 2,  6, 12, 20, 30, 42, 56, 72, 90])```)"
   ]
  },
  {
   "cell_type": "code",
   "execution_count": 73,
   "metadata": {},
   "outputs": [
    {
     "name": "stdout",
     "output_type": "stream",
     "text": [
      "###################################################################\n",
      "Solution 5.1\n",
      "[[  1   2   3   4   5   6   7   8   9  10]\n",
      " [  2   4   6   8  10  12  14  16  18  20]\n",
      " [  3   6   9  12  15  18  21  24  27  30]\n",
      " [  4   8  12  16  20  24  28  32  36  40]\n",
      " [  5  10  15  20  25  30  35  40  45  50]\n",
      " [  6  12  18  24  30  36  42  48  54  60]\n",
      " [  7  14  21  28  35  42  49  56  63  70]\n",
      " [  8  16  24  32  40  48  56  64  72  80]\n",
      " [  9  18  27  36  45  54  63  72  81  90]\n",
      " [ 10  20  30  40  50  60  70  80  90 100]]\n",
      "Trace : 385\n",
      "###################################################################\n",
      "Solution 5.2\n",
      "[10, 18, 24, 28, 30, 30, 28, 24, 18, 10]\n",
      "###################################################################\n",
      "Solution 5.3\n",
      "[2, 6, 12, 20, 30, 42, 56, 72, 90]\n"
     ]
    }
   ],
   "source": [
    "print(\"###################################################################\")\n",
    "print(\"Solution 5.1\")\n",
    "multi_table=[]\n",
    "\n",
    "for i in range(1,11):\n",
    "    a=[]\n",
    "    for j in range(1,11):\n",
    "        a.append(i*j)\n",
    "    multi_table.append(a)\n",
    "\n",
    "res=np.vstack(multi_table)\n",
    "print(res)\n",
    "\n",
    "trace=res.trace()\n",
    "print(\"Trace :\", trace)\n",
    "\n",
    "print(\"###################################################################\")\n",
    "print(\"Solution 5.2\")\n",
    "\n",
    "anti_diagonal=[]\n",
    "for i in range (10):\n",
    "    anti_diagonal.append(res[i][9-i])\n",
    "    \n",
    "print(anti_diagonal)\n",
    "\n",
    "print(\"###################################################################\")\n",
    "print(\"Solution 5.3\")\n",
    "\n",
    "diagonal_offset1=[]\n",
    "for i in range (9):\n",
    "    diagonal_offset1.append(res[i][i+1])\n",
    "    \n",
    "print(diagonal_offset1)\n",
    "    "
   ]
  },
  {
   "cell_type": "markdown",
   "metadata": {},
   "source": [
    "6\\. Use broadcasting to create a grid of distances.\n",
    "\n",
    "Route 66 crosses the following cities in the US: Chicago, Springfield, Saint-Louis, Tulsa, Oklahoma City, Amarillo, Santa Fe, Albuquerque, Flagstaff, Los Angeles\n",
    "The corresponding positions in miles are: 0, 198, 303, 736, 871, 1175, 1475, 1544, 1913, 2448\n",
    "\n",
    "  * Build a 2D grid of distances among each city along Route 66\n",
    "  * Convert the distances in km"
   ]
  },
  {
   "cell_type": "code",
   "execution_count": 74,
   "metadata": {},
   "outputs": [
    {
     "name": "stdout",
     "output_type": "stream",
     "text": [
      "###################################################################\n",
      "Solution 6.1\n",
      "[[   0  198  303  736  871 1175 1475 1544 1913 2448]\n",
      " [ 198    0  105  538  673  977 1277 1346 1715 2250]\n",
      " [ 303  105    0  433  568  872 1172 1241 1610 2145]\n",
      " [ 736  538  433    0  135  439  739  808 1177 1712]\n",
      " [ 871  673  568  135    0  304  604  673 1042 1577]\n",
      " [1175  977  872  439  304    0  300  369  738 1273]\n",
      " [1475 1277 1172  739  604  300    0   69  438  973]\n",
      " [1544 1346 1241  808  673  369   69    0  369  904]\n",
      " [1913 1715 1610 1177 1042  738  438  369    0  535]\n",
      " [2448 2250 2145 1712 1577 1273  973  904  535    0]]\n",
      "###################################################################\n",
      "Solution 6.2\n",
      "distance_km=\n",
      " [[   0.   316.8  484.8 1177.6 1393.6 1880.  2360.  2470.4 3060.8 3916.8]\n",
      " [ 316.8    0.   168.   860.8 1076.8 1563.2 2043.2 2153.6 2744.  3600. ]\n",
      " [ 484.8  168.     0.   692.8  908.8 1395.2 1875.2 1985.6 2576.  3432. ]\n",
      " [1177.6  860.8  692.8    0.   216.   702.4 1182.4 1292.8 1883.2 2739.2]\n",
      " [1393.6 1076.8  908.8  216.     0.   486.4  966.4 1076.8 1667.2 2523.2]\n",
      " [1880.  1563.2 1395.2  702.4  486.4    0.   480.   590.4 1180.8 2036.8]\n",
      " [2360.  2043.2 1875.2 1182.4  966.4  480.     0.   110.4  700.8 1556.8]\n",
      " [2470.4 2153.6 1985.6 1292.8 1076.8  590.4  110.4    0.   590.4 1446.4]\n",
      " [3060.8 2744.  2576.  1883.2 1667.2 1180.8  700.8  590.4    0.   856. ]\n",
      " [3916.8 3600.  3432.  2739.2 2523.2 2036.8 1556.8 1446.4  856.     0. ]]\n"
     ]
    }
   ],
   "source": [
    "print(\"###################################################################\")\n",
    "print(\"Solution 6.1\")\n",
    "\n",
    "a=np.array([0, 198, 303, 736, 871, 1175, 1475, 1544, 1913, 2448])\n",
    "distance=np.abs(a-a[:,np.newaxis])\n",
    "print(distance)\n",
    "\n",
    "print(\"###################################################################\")\n",
    "print(\"Solution 6.2\")\n",
    "\n",
    "distance_km=distance*1.6\n",
    "print(\"distance_km=\\n\",distance_km)\n",
    "#route66=np.vstack(route66)     "
   ]
  },
  {
   "cell_type": "markdown",
   "metadata": {},
   "source": [
    "7\\. Prime numbers sieve: compute the prime numbers in the 0-N (start with N=99) range with a sieve (mask).\n",
    "  * Check the performances (timeit); how does it scale with N?\n",
    "  * Implement the optimization suggested in the [sieve of Eratosthenes](https://en.wikipedia.org/wiki/Sieve_of_Eratosthenes)"
   ]
  },
  {
   "cell_type": "code",
   "execution_count": 75,
   "metadata": {},
   "outputs": [
    {
     "name": "stdout",
     "output_type": "stream",
     "text": [
      "###################################################################\n",
      "Solution 7.1\n",
      "[ 2  3  5  7 11 13 17 19 23 29 31 37 41 43 47 53 59 61 67 71 73 79 83 89\n",
      " 97]\n",
      "###################################################################\n",
      "Solution 7.2\n",
      "N: 1000.0\n",
      "time: 0.0008080999978119507\n",
      "N: 10000.0\n",
      "time: 0.008033800011617132\n",
      "N: 100000.0\n",
      "time: 0.04151639998599421\n",
      "N: 1000000.0\n",
      "time: 0.30601600000227336\n",
      "N: 10000000.0\n",
      "time: 3.118569700003718\n",
      "N: 100000000.0\n",
      "time: 31.475263000000268\n"
     ]
    }
   ],
   "source": [
    "print(\"###################################################################\")\n",
    "print(\"Solution 7.1\")\n",
    "\n",
    "def sieve(N):\n",
    "    numbers = np.arange(N+1)\n",
    "    mask = np.ones(numbers.shape[0], dtype=bool)\n",
    "    mask[0] = False\n",
    "    mask[1] = False\n",
    "    \n",
    "    for i in range(2, mask.shape[0]):\n",
    "        if mask[i]:\n",
    "            mask[i+i::i] = False\n",
    "            \n",
    "    return numbers[mask]\n",
    "\n",
    "N = 100\n",
    "\n",
    "print(sieve(N))\n",
    "\n",
    "print(\"###################################################################\")\n",
    "print(\"Solution 7.2\")\n",
    "\n",
    "from time import perf_counter \n",
    "\n",
    "Ns = [1e3, 1e4, 1e5, 1e6, 1e7, 1e8]\n",
    "times = []\n",
    "\n",
    "for N in Ns:\n",
    "    print('N:', N)\n",
    "    start = perf_counter()\n",
    "    sieve(N)\n",
    "    time = perf_counter()-start\n",
    "    print('time:', time)\n",
    "    times.append(time)"
   ]
  },
  {
   "cell_type": "code",
   "execution_count": null,
   "metadata": {},
   "outputs": [],
   "source": []
  }
 ],
 "metadata": {
  "kernelspec": {
   "display_name": "Python 3",
   "language": "python",
   "name": "python3"
  },
  "language_info": {
   "codemirror_mode": {
    "name": "ipython",
    "version": 3
   },
   "file_extension": ".py",
   "mimetype": "text/x-python",
   "name": "python",
   "nbconvert_exporter": "python",
   "pygments_lexer": "ipython3",
   "version": "3.8.8"
  }
 },
 "nbformat": 4,
 "nbformat_minor": 2
}
